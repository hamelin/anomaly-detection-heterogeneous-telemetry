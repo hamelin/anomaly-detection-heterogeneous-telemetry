{
 "cells": [
  {
   "cell_type": "code",
   "execution_count": 1,
   "metadata": {},
   "outputs": [],
   "source": [
    "%load_ext pycodestyle_magic\n",
    "%flake8_on --max_line_length 120 --ignore W293,E302"
   ]
  },
  {
   "cell_type": "markdown",
   "metadata": {},
   "source": [
    "# Memoization to disk\n",
    "\n",
    "These tools provide functions to facilitate the memoization of certain computations, when the cost of their execution exceeds that of their storage and serialization.\n",
    "\n",
    "The current approach means to separate the result storage from the memoization checking."
   ]
  },
  {
   "cell_type": "code",
   "execution_count": 2,
   "metadata": {},
   "outputs": [],
   "source": [
    "from jupytest import Suite, Report, summarize_results, fail\n",
    "from unittest.mock import patch, MagicMock, call"
   ]
  },
  {
   "cell_type": "code",
   "execution_count": 3,
   "metadata": {},
   "outputs": [],
   "source": [
    "suite = Suite()\n",
    "if __name__ == \"__main__\":\n",
    "    suite |= Report()"
   ]
  },
  {
   "cell_type": "markdown",
   "metadata": {},
   "source": [
    "## Result store\n",
    "\n",
    "The store is essentially a directory where results can be serialized to files."
   ]
  },
  {
   "cell_type": "code",
   "execution_count": 4,
   "metadata": {},
   "outputs": [],
   "source": [
    "import os\n",
    "from os.path import isdir, realpath\n",
    "\n",
    "\n",
    "DIR_STORE = realpath(\".\")\n",
    "\n",
    "\n",
    "def set_store_directory(path: os.PathLike) -> None:\n",
    "    global DIR_STORE\n",
    "    DIR_STORE = realpath(path)"
   ]
  },
  {
   "cell_type": "markdown",
   "metadata": {},
   "source": [
    "This allows using a certain result storage place only temporarily."
   ]
  },
  {
   "cell_type": "code",
   "execution_count": 5,
   "metadata": {},
   "outputs": [],
   "source": [
    "from contextlib import contextmanager\n",
    "from typing import ContextManager\n",
    "\n",
    "\n",
    "@contextmanager\n",
    "def storing_in_directory(path: os.PathLike) -> ContextManager[None]:\n",
    "    dir_orig = DIR_STORE\n",
    "    try:\n",
    "        set_store_directory(path)\n",
    "        yield\n",
    "    finally:\n",
    "        set_store_directory(dir_orig)"
   ]
  },
  {
   "cell_type": "markdown",
   "metadata": {},
   "source": [
    "The path to a certain result is identified by a **unique** *signature*."
   ]
  },
  {
   "cell_type": "code",
   "execution_count": 6,
   "metadata": {},
   "outputs": [],
   "source": [
    "import os\n",
    "from os.path import join\n",
    "\n",
    "\n",
    "def path_to_result(sig: str) -> os.PathLike:\n",
    "    return join(DIR_STORE, sig)"
   ]
  },
  {
   "cell_type": "code",
   "execution_count": 7,
   "metadata": {},
   "outputs": [
    {
     "name": "stdout",
     "output_type": "stream",
     "text": [
      "Test \u001b[1mResults will live in the store directory\u001b[0m passed.\n"
     ]
    }
   ],
   "source": [
    "%%test Results will live in the store directory\n",
    "from os.path import dirname\n",
    "for sig in [\"some_result\", \"some/deeper/result\"]:\n",
    "    path = path_to_result(sig)\n",
    "    while path:\n",
    "        if path == DIR_STORE:\n",
    "            break\n",
    "        path = dirname(path)\n",
    "    else:\n",
    "        fail(f\"Did not get the storage directory anywhere along {path_to_result(sig)}\")"
   ]
  },
  {
   "cell_type": "markdown",
   "metadata": {},
   "source": [
    "## *Serde* -- Serializer-deserializer\n",
    "\n",
    "Most results will be picklable to disk; let's still make the serde a moving part, in case we should meet results that would not."
   ]
  },
  {
   "cell_type": "code",
   "execution_count": 8,
   "metadata": {},
   "outputs": [],
   "source": [
    "import gzip\n",
    "import io\n",
    "import os\n",
    "import pickle\n",
    "from typing import Any\n",
    "\n",
    "\n",
    "class Serde:\n",
    "\n",
    "    def exists(self, sig: str) -> bool:\n",
    "        return os.access(path_to_result(sig), os.R_OK)\n",
    "\n",
    "    def read(self, sig: str) -> Any:\n",
    "        with self._open(sig, \"rb\") as file:\n",
    "            return self.from_file(file)\n",
    "        \n",
    "    def from_file(self, file: io.RawIOBase) -> Any:\n",
    "        return pickle.load(file)\n",
    "    \n",
    "    def write(self, sig: str, obj: Any) -> Any:\n",
    "        with self._open(sig, \"wb\") as file:\n",
    "            self.to_file(file, obj)\n",
    "        return obj\n",
    "\n",
    "    def to_file(self, file: io.RawIOBase, obj: Any) -> None:\n",
    "        pickle.dump(obj, file)\n",
    "\n",
    "    def _open(self, sig: str, mode: str) -> io.RawIOBase:\n",
    "        return gzip.open(path_to_result(sig), mode)"
   ]
  },
  {
   "cell_type": "code",
   "execution_count": 9,
   "metadata": {},
   "outputs": [
    {
     "name": "stdout",
     "output_type": "stream",
     "text": [
      "Test \u001b[1mSerializing a result\u001b[0m passed.\n"
     ]
    }
   ],
   "source": [
    "%%test Serializing a result\n",
    "with patch(\"gzip.open\") as mock:\n",
    "    assert Serde().write(\"some_result\", \"asdf\") == \"asdf\"\n",
    "    mock.assert_called_once_with(path_to_result(\"some_result\"), \"wb\")\n",
    "    mock.return_value.__enter__.return_value.write.assert_called_once_with(pickle.dumps(\"asdf\"))"
   ]
  },
  {
   "cell_type": "code",
   "execution_count": 10,
   "metadata": {},
   "outputs": [
    {
     "name": "stdout",
     "output_type": "stream",
     "text": [
      "Test \u001b[1mDeserializing a result\u001b[0m passed.\n"
     ]
    }
   ],
   "source": [
    "%%test Deserializing a result\n",
    "with patch(\"gzip.open\") as mock_open, patch(\"pickle.load\", return_value=\"qwerty\") as mock_load:\n",
    "    assert Serde().read(\"known_result\") == \"qwerty\"\n",
    "    mock_load.assert_called_once_with(mock_open.return_value.__enter__.return_value)"
   ]
  },
  {
   "cell_type": "markdown",
   "metadata": {},
   "source": [
    "## Function call signatures\n",
    "\n",
    "Signatures should incorporate as much as possible from the artifacts of the computation, so that any change among these will fail to reuse a result unduly. We shall take into account:\n",
    "\n",
    "1. The input parameter names and values: we would consider their most detailed representation as issued by `repr`.\n",
    "1. The computation's implementation: we will take the source as is, but discard blank lines, thereby providing a measure of robustness.\n",
    "1. The state of global and closure variables upon function entry."
   ]
  },
  {
   "cell_type": "markdown",
   "metadata": {},
   "source": [
    "### Signing the code of a function"
   ]
  },
  {
   "cell_type": "code",
   "execution_count": 11,
   "metadata": {},
   "outputs": [],
   "source": [
    "from hashlib import sha256\n",
    "from inspect import getsourcelines\n",
    "from typing import Callable, Optional\n",
    "\n",
    "\n",
    "def signature_code(f: Callable, h: Optional[sha256] = None) -> str:\n",
    "    h = h or sha256()\n",
    "    try:\n",
    "        source, _ = getsourcelines(f)\n",
    "        source_no_blank = b\"\".join(bytes(line.rstrip(), encoding=\"utf-8\") for line in source if len(line.strip()) > 0)\n",
    "        h.update(source_no_blank)\n",
    "    except TypeError:\n",
    "        h.update(bytes(f.__name__, encoding=\"utf-8\"))\n",
    "    return h.hexdigest()"
   ]
  },
  {
   "cell_type": "code",
   "execution_count": 12,
   "metadata": {},
   "outputs": [],
   "source": [
    "def is_sha256(s: str) -> bool:\n",
    "    import re\n",
    "    return re.match(r\"^[a-f0-9]{64}$\", s) is not None"
   ]
  },
  {
   "cell_type": "code",
   "execution_count": 13,
   "metadata": {},
   "outputs": [
    {
     "name": "stdout",
     "output_type": "stream",
     "text": [
      "Test \u001b[1mCode signature is a SHA-256 hash\u001b[0m passed.\n"
     ]
    }
   ],
   "source": [
    "%%test Code signature is a SHA-256 hash\n",
    "def fn(x):\n",
    "    return x * x\n",
    "\n",
    "assert is_sha256(signature_code(fn))"
   ]
  },
  {
   "cell_type": "code",
   "execution_count": 14,
   "metadata": {},
   "outputs": [
    {
     "name": "stdout",
     "output_type": "stream",
     "text": [
      "Test \u001b[1mCode signature is distinct for functions with distinct code\u001b[0m passed.\n"
     ]
    }
   ],
   "source": [
    "%%test Code signature is distinct for functions with distinct code\n",
    "def f(x):\n",
    "    return x * x\n",
    "\n",
    "def g(x):\n",
    "    return x + x\n",
    "\n",
    "assert signature_code(f) != signature_code(g)"
   ]
  },
  {
   "cell_type": "code",
   "execution_count": 15,
   "metadata": {},
   "outputs": [
    {
     "name": "stdout",
     "output_type": "stream",
     "text": [
      "Test \u001b[1mCode signature does not change for two functions with the same code\u001b[0m passed.\n"
     ]
    }
   ],
   "source": [
    "%%test Code signature does not change for two functions with the same code\n",
    "from inspect import getsource\n",
    "\n",
    "def make_fn(z):\n",
    "    def f(x):\n",
    "        y = x * x\n",
    "        return y * y + 0.5 * y - z\n",
    "    return f\n",
    "\n",
    "f1 = make_fn(1)\n",
    "f2 = make_fn(2)\n",
    "assert f1 is not f2\n",
    "assert getsource(f1) == getsource(f2)\n",
    "assert signature_code(f1) == signature_code(f2)"
   ]
  },
  {
   "cell_type": "code",
   "execution_count": 16,
   "metadata": {},
   "outputs": [
    {
     "name": "stdout",
     "output_type": "stream",
     "text": [
      "Test \u001b[1mCode signature is not impacted by blank lines\u001b[0m passed.\n"
     ]
    }
   ],
   "source": [
    "%%test Code signature is not impacted by blank lines\n",
    "from inspect import getsource\n",
    "\n",
    "def f(x):\n",
    "    return x * x\n",
    "\n",
    "f1 = f\n",
    "\n",
    "def f(x):\n",
    "    \n",
    "    return x * x\n",
    "\n",
    "f2 = f\n",
    "assert f1 is not f2\n",
    "assert getsource(f1) != getsource(f2)\n",
    "assert signature_code(f1) == signature_code(f2)"
   ]
  },
  {
   "cell_type": "code",
   "execution_count": 17,
   "metadata": {},
   "outputs": [
    {
     "name": "stdout",
     "output_type": "stream",
     "text": [
      "Test \u001b[1mFor functions that have no code, we sign the function's name\u001b[0m passed.\n"
     ]
    }
   ],
   "source": [
    "%%test For functions that have no code, we sign the function's name\n",
    "from hashlib import sha256\n",
    "assert signature_code(int) == sha256(b\"int\").hexdigest()"
   ]
  },
  {
   "cell_type": "markdown",
   "metadata": {},
   "source": [
    "### Signing arguments of a function"
   ]
  },
  {
   "cell_type": "code",
   "execution_count": 18,
   "metadata": {},
   "outputs": [],
   "source": [
    "from hashlib import sha256\n",
    "from typing import Any, Sequence, Mapping, Optional\n",
    "\n",
    "\n",
    "def normalize_env(env: Mapping[str, Any]) -> Mapping[str, Any]:\n",
    "    return dict(sorted(env.items()))\n",
    "\n",
    "\n",
    "def bytes_repr(x: Any) -> bytes:\n",
    "    return bytes(repr(x), encoding=\"utf-8\")\n",
    "\n",
    "\n",
    "def signature_args(args: Sequence[Any], kwargs: Mapping[str, Any], h: Optional[sha256] = None) -> str:\n",
    "    h = h or sha256()\n",
    "    h.update(bytes_repr(args))\n",
    "    h.update(bytes_repr(normalize_env(kwargs)))\n",
    "    return h.hexdigest()"
   ]
  },
  {
   "cell_type": "code",
   "execution_count": 19,
   "metadata": {},
   "outputs": [
    {
     "name": "stdout",
     "output_type": "stream",
     "text": [
      "Test \u001b[1mGet a signature for empty argument lists\u001b[0m passed.\n"
     ]
    }
   ],
   "source": [
    "%%test Get a signature for empty argument lists\n",
    "assert is_sha256(signature_args([], {}))"
   ]
  },
  {
   "cell_type": "code",
   "execution_count": 20,
   "metadata": {},
   "outputs": [
    {
     "name": "stdout",
     "output_type": "stream",
     "text": [
      "Test \u001b[1mSame signature for same argument lists\u001b[0m passed.\n"
     ]
    }
   ],
   "source": [
    "%%test Same signature for same argument lists\n",
    "assert signature_args([\"asdf\"], {}) == signature_args([\"asdf\"], {})\n",
    "assert signature_args([], dict(x=552)) == signature_args([], dict(x=552))\n",
    "assert signature_args([\"some/path\", (3, \"tuple\")], dict(asdf=45, qwer=98, zxcv=234)) == \\\n",
    "    signature_args([\"some/path\", (3, \"tuple\")], dict(qwer=98, asdf=45, zxcv=234))"
   ]
  },
  {
   "cell_type": "code",
   "execution_count": 21,
   "metadata": {},
   "outputs": [
    {
     "name": "stdout",
     "output_type": "stream",
     "text": [
      "Test \u001b[1mArg signature distinct for distinct positional arg lists (although identical keyword args)\u001b[0m passed.\n"
     ]
    }
   ],
   "source": [
    "%%test Arg signature distinct for distinct positional arg lists (although identical keyword args)\n",
    "assert signature_args([\"asdf\"], {}) != signature_args([], {})\n",
    "assert signature_args([\"asdf\", \"qwer\"], dict(x=32, y=56)) != signature_args([\"qwer\", \"asdf\"], dict(y=56, x=32))"
   ]
  },
  {
   "cell_type": "code",
   "execution_count": 22,
   "metadata": {},
   "outputs": [
    {
     "name": "stdout",
     "output_type": "stream",
     "text": [
      "Test \u001b[1mArg signature distinct for distinct keyword arg lists (although identical positional args)\u001b[0m passed.\n"
     ]
    }
   ],
   "source": [
    "%%test Arg signature distinct for distinct keyword arg lists (although identical positional args)\n",
    "assert signature_args([], dict(x=32)) != signature_args([], dict(y=32))\n",
    "assert signature_args([], dict(x=32)) != signature_args([], dict(x=33))\n",
    "assert signature_args([\"asdf\", \"qwer\"], dict(x=12, y=32)) != signature_args([\"asdf\", \"qwer\"], dict(x=12, y=32, z=45))"
   ]
  },
  {
   "cell_type": "markdown",
   "metadata": {},
   "source": [
    "### Signature for relevant environment"
   ]
  },
  {
   "cell_type": "code",
   "execution_count": 23,
   "metadata": {},
   "outputs": [],
   "source": [
    "from inspect import getclosurevars\n",
    "\n",
    "\n",
    "def signature_env(fn: Callable, h: Optional[sha256] = None) -> str:\n",
    "    h = h or sha256()\n",
    "    cv = getclosurevars(fn)\n",
    "    h.update(bytes_repr(normalize_env(cv.nonlocals)))\n",
    "    h.update(bytes_repr(normalize_env(cv.globals)))\n",
    "    return h.hexdigest()"
   ]
  },
  {
   "cell_type": "code",
   "execution_count": 24,
   "metadata": {},
   "outputs": [
    {
     "name": "stdout",
     "output_type": "stream",
     "text": [
      "Test \u001b[1mEnv signature is SHA256 even when no closure nor global var\u001b[0m passed.\n"
     ]
    }
   ],
   "source": [
    "%%test Env signature is SHA256 even when no closure nor global var\n",
    "def f():\n",
    "    return \"asdf\"\n",
    "\n",
    "cv = getclosurevars(f)\n",
    "assert len(cv.nonlocals) == 0\n",
    "assert len(cv.globals) == 0\n",
    "assert is_sha256(signature_env(f))"
   ]
  },
  {
   "cell_type": "code",
   "execution_count": 25,
   "metadata": {},
   "outputs": [
    {
     "name": "stdout",
     "output_type": "stream",
     "text": [
      "Test \u001b[1mEnv signature for distinct functions with same closures is the same\u001b[0m passed.\n"
     ]
    }
   ],
   "source": [
    "%%test Env signature for distinct functions with same closures is the same\n",
    "def make_f(y):\n",
    "    def f(x):\n",
    "        return x + y\n",
    "    return f\n",
    "    \n",
    "f1 = make_f(1)\n",
    "f2 = make_f(1)\n",
    "assert f1 is not f2 and f1 != f2\n",
    "assert signature_env(f1) == signature_env(f2)"
   ]
  },
  {
   "cell_type": "code",
   "execution_count": 26,
   "metadata": {},
   "outputs": [
    {
     "name": "stdout",
     "output_type": "stream",
     "text": [
      "Test \u001b[1mEnv signature for distinct functions with same globals is the same\u001b[0m passed.\n"
     ]
    }
   ],
   "source": [
    "%%test Env signature for distinct functions with same globals is the same\n",
    "def f():\n",
    "    return 56 + G\n",
    "\n",
    "def g():\n",
    "    return 23 - G\n",
    "    \n",
    "try:\n",
    "    globals()[\"G\"] = 8\n",
    "    assert signature_env(f) == signature_env(g)\n",
    "finally:\n",
    "    del globals()[\"G\"]"
   ]
  },
  {
   "cell_type": "code",
   "execution_count": 27,
   "metadata": {},
   "outputs": [
    {
     "name": "stdout",
     "output_type": "stream",
     "text": [
      "Test \u001b[1mEnv signatures for function with distinct closures are distinct\u001b[0m passed.\n"
     ]
    }
   ],
   "source": [
    "%%test Env signatures for function with distinct closures are distinct\n",
    "def make_f(y):\n",
    "    def f(x):\n",
    "        return x + y\n",
    "    return f\n",
    "    \n",
    "f1 = make_f(1)\n",
    "f2 = make_f(2)\n",
    "assert signature_env(f1) != signature_env(f2)"
   ]
  },
  {
   "cell_type": "code",
   "execution_count": 28,
   "metadata": {},
   "outputs": [
    {
     "name": "stdout",
     "output_type": "stream",
     "text": [
      "Test \u001b[1mEnv signatures for same function but with distinct global bindings are distinct\u001b[0m passed.\n"
     ]
    }
   ],
   "source": [
    "%%test Env signatures for same function but with distinct global bindings are distinct\n",
    "def f():\n",
    "    return G + 8\n",
    "    \n",
    "try:\n",
    "    globals()[\"G\"] = 10\n",
    "    sig1 = signature_env(f)\n",
    "    globals()[\"G\"] = 20\n",
    "    sig2 = signature_env(f)\n",
    "    assert sig1 != sig2\n",
    "finally:\n",
    "    del globals()[\"G\"]"
   ]
  },
  {
   "cell_type": "markdown",
   "metadata": {},
   "source": [
    "### Signature of a full function call"
   ]
  },
  {
   "cell_type": "code",
   "execution_count": 29,
   "metadata": {},
   "outputs": [],
   "source": [
    "from typing import Callable, Sequence, Mapping, Any\n",
    "\n",
    "\n",
    "def signature_call(fn: Callable, args: Sequence[Any], kwargs: Mapping[str, Any]) -> str:\n",
    "    h = sha256()\n",
    "    signature_code(fn, h)\n",
    "    signature_args(args, kwargs, h)\n",
    "    signature_env(fn, h)\n",
    "    return h.hexdigest()"
   ]
  },
  {
   "cell_type": "code",
   "execution_count": 30,
   "metadata": {},
   "outputs": [
    {
     "name": "stdout",
     "output_type": "stream",
     "text": [
      "Test \u001b[1mCombined signature is a SHA256 hash\u001b[0m passed.\n"
     ]
    }
   ],
   "source": [
    "%%test Combined signature is a SHA256 hash\n",
    "assert is_sha256(signature_call(lambda x: x, [], {}))"
   ]
  },
  {
   "cell_type": "code",
   "execution_count": 31,
   "metadata": {},
   "outputs": [
    {
     "name": "stdout",
     "output_type": "stream",
     "text": [
      "Test \u001b[1mCombined signature is distinct from components\u001b[0m passed.\n"
     ]
    }
   ],
   "source": [
    "%%test Combined signature is distinct from components\n",
    "def f():\n",
    "    return \"asdf\"\n",
    "\n",
    "assert signature_call(f, [], {}) != signature_code(f)\n",
    "assert signature_call(f, [], {}) != signature_args([], {})\n",
    "assert signature_call(f, [], {}) != signature_env(f)"
   ]
  },
  {
   "cell_type": "code",
   "execution_count": 32,
   "metadata": {},
   "outputs": [
    {
     "name": "stdout",
     "output_type": "stream",
     "text": [
      "Test \u001b[1mSame combined signature for same code, args and env\u001b[0m passed.\n"
     ]
    }
   ],
   "source": [
    "%%test Same combined signature for same code, args and env\n",
    "def make_f(z):\n",
    "    def f(x, y=1.0):\n",
    "        return x * x / y - z ** 2\n",
    "    return f\n",
    "    \n",
    "f1 = make_f(100)\n",
    "f2 = make_f(100)\n",
    "assert f1 is not f2 and f1 != f2\n",
    "from inspect import getclosurevars\n",
    "for f in [f1, f2]:\n",
    "    assert getclosurevars(f).nonlocals.get(\"z\") == 100\n",
    "assert signature_call(f1, [8], {\"y\": 2}) == signature_call(f2, [8], {\"y\": 2})"
   ]
  },
  {
   "cell_type": "code",
   "execution_count": 33,
   "metadata": {},
   "outputs": [
    {
     "name": "stdout",
     "output_type": "stream",
     "text": [
      "Test \u001b[1mDistinct combined signatures for functions with distinct code, but same args and env\u001b[0m passed.\n"
     ]
    }
   ],
   "source": [
    "%%test Distinct combined signatures for functions with distinct code, but same args and env\n",
    "def f(x, y):\n",
    "    return x + y + G\n",
    "\n",
    "def g(x, y):\n",
    "    return x * y + G\n",
    "\n",
    "\n",
    "try:\n",
    "    globals()[\"G\"] = 90\n",
    "    assert signature_call(f, [3, 4], {}) != signature_call(g, [3, 4], {})\n",
    "finally:\n",
    "    del globals()[\"G\"]"
   ]
  },
  {
   "cell_type": "code",
   "execution_count": 34,
   "metadata": {},
   "outputs": [
    {
     "name": "stdout",
     "output_type": "stream",
     "text": [
      "Test \u001b[1mDistinct combined signatures for function with distinct args, but same code and env\u001b[0m passed.\n"
     ]
    }
   ],
   "source": [
    "%%test Distinct combined signatures for function with distinct args, but same code and env\n",
    "def make_f(z):\n",
    "    def f(x, **kwargs):\n",
    "        return x * z - sum(kwargs.values())\n",
    "    return f\n",
    "    \n",
    "f1 = make_f(10)\n",
    "f2 = make_f(10)\n",
    "assert signature_code(f1) == signature_code(f2)\n",
    "assert signature_env(f1) == signature_env(f2)\n",
    "assert signature_call(f1, [4], dict(u=8, o=9)) != signature_call(f2, [4], dict(r=8, p=9))"
   ]
  },
  {
   "cell_type": "code",
   "execution_count": 35,
   "metadata": {},
   "outputs": [
    {
     "name": "stdout",
     "output_type": "stream",
     "text": [
      "Test \u001b[1mDistinct combined signatures for function with distinct env, but same code and args\u001b[0m passed.\n"
     ]
    }
   ],
   "source": [
    "%%test Distinct combined signatures for function with distinct env, but same code and args\n",
    "def make_f(z):\n",
    "    def f(x, y):\n",
    "        return x + y - z * T\n",
    "    return f\n",
    "    \n",
    "try:\n",
    "    f = make_f(10)\n",
    "    globals()[\"T\"] = 1\n",
    "    sig1 = signature_call(f, [10, 21], {})\n",
    "    globals()[\"T\"] = 2\n",
    "    sig2 = signature_call(f, [10, 21], {})\n",
    "    assert sig1 != sig2\n",
    "finally:\n",
    "    del globals()[\"T\"]"
   ]
  },
  {
   "cell_type": "markdown",
   "metadata": {},
   "source": [
    "## Memoization"
   ]
  },
  {
   "cell_type": "code",
   "execution_count": 36,
   "metadata": {},
   "outputs": [],
   "source": [
    "from dask.delayed import Delayed\n",
    "from typing import Callable, Any, Optional\n",
    "\n",
    "\n",
    "def memo(fn: Optional[Callable] = None, serde: Optional[Serde] = None) -> Callable:\n",
    "    serde = serde or Serde()\n",
    "\n",
    "    def _process(fn: Callable) -> Callable:\n",
    "        def memoized(*args, **kwargs) -> Any:\n",
    "            sig = signature_call(fn, args, kwargs)\n",
    "            if serde.exists(sig):\n",
    "                return serde.read(sig)\n",
    "            return serde.write(sig, fn(*args, **kwargs))\n",
    "        return memoized\n",
    "\n",
    "    if fn is None:\n",
    "        return _process\n",
    "    return _process(fn)"
   ]
  },
  {
   "cell_type": "code",
   "execution_count": 37,
   "metadata": {},
   "outputs": [],
   "source": [
    "from typing import Tuple\n",
    "\n",
    "\n",
    "class SerdeTest(Serde):\n",
    "    \n",
    "    def __init__(self) -> None:\n",
    "        self._results = {}\n",
    "        self.num_exists = 0\n",
    "        self.num_read = 0\n",
    "        self.num_write = 0\n",
    "\n",
    "    @property\n",
    "    def num_ops(self) -> Tuple[int, int, int]:\n",
    "        return (self.num_exists, self.num_read, self.num_write)\n",
    "        \n",
    "    def exists(self, sig: str) -> bool:\n",
    "        self.num_exists += 1\n",
    "        return sig in self._results\n",
    "    \n",
    "    def read(self, sig: str) -> Any:\n",
    "        self.num_read += 1\n",
    "        return self._results[sig]\n",
    "    \n",
    "    def write(self, sig: str, obj: Any) -> Any:\n",
    "        self.num_write += 1\n",
    "        self._results[sig] = obj\n",
    "        return obj"
   ]
  },
  {
   "cell_type": "code",
   "execution_count": 38,
   "metadata": {
    "scrolled": false
   },
   "outputs": [
    {
     "name": "stdout",
     "output_type": "stream",
     "text": [
      "Test \u001b[1mSuccessful memoization\u001b[0m passed.\n"
     ]
    }
   ],
   "source": [
    "%%test Successful memoization\n",
    "mock_function = MagicMock()\n",
    "serde_test = SerdeTest()\n",
    "\n",
    "def make_f(z):\n",
    "    global serde_test\n",
    "    \n",
    "    @memo(serde=serde_test)\n",
    "    def f(x, *args, **kwargs):\n",
    "        global mock_function\n",
    "        mock_function(x, *args, **kwargs)\n",
    "        return x * (sum(args) + sum(kwargs.values())) - z\n",
    "\n",
    "    return f\n",
    "\n",
    "f = make_f(1)\n",
    "y = 0\n",
    "for _ in range(10):\n",
    "    y += f(2, 5, 6, p=2, q=3)\n",
    "mock_function.assert_called_once_with(2, 5, 6, p=2, q=3)\n",
    "assert serde_test.num_ops == (10, 9, 1)"
   ]
  },
  {
   "cell_type": "code",
   "execution_count": 39,
   "metadata": {},
   "outputs": [
    {
     "name": "stdout",
     "output_type": "stream",
     "text": [
      "Test \u001b[1mMemoized result not reused when distinct args\u001b[0m passed.\n"
     ]
    }
   ],
   "source": [
    "%%test Memoized result not reused when distinct args\n",
    "mock_function = MagicMock()\n",
    "serde_test = SerdeTest()\n",
    "\n",
    "@memo(serde=serde_test)\n",
    "def f(x, y, **kwargs):\n",
    "    global mock_function\n",
    "    mock_function(x, y, **kwargs)\n",
    "    return x * sum(kwargs.values()) - y\n",
    "\n",
    "results = [f(4, 3, p=2, q=5), f(4, 1, p=2, q=5), f(4, 3, r=2, q=5)]\n",
    "assert mock_function.mock_calls == [call(4, 3, p=2, q=5), call(4, 1, p=2, q=5), call(4, 3, r=2, q=5)]\n",
    "assert serde_test.num_read == 0\n",
    "assert serde_test.num_write == 3"
   ]
  },
  {
   "cell_type": "code",
   "execution_count": 40,
   "metadata": {},
   "outputs": [
    {
     "name": "stdout",
     "output_type": "stream",
     "text": [
      "Test \u001b[1mMemoized result not reused when distinct env\u001b[0m passed.\n"
     ]
    }
   ],
   "source": [
    "%%test Memoized result not reused when distinct env\n",
    "serde_test = SerdeTest()\n",
    "\n",
    "def make_f(z):\n",
    "    global serde_test\n",
    "    @memo(serde=serde_test)\n",
    "    def f(x):\n",
    "        return x + z - G\n",
    "    return f\n",
    "    \n",
    "try:\n",
    "    globals()[\"G\"] = 10\n",
    "    f1 = make_f(20)\n",
    "    f1(10)\n",
    "    f2 = make_f(10)\n",
    "    f2(10)\n",
    "    globals()[\"G\"] = 8\n",
    "    f1(10)\n",
    "finally:\n",
    "    del globals()[\"G\"]\n",
    "\n",
    "assert serde_test.num_write == 3\n",
    "assert serde_test.num_read == 0"
   ]
  },
  {
   "cell_type": "code",
   "execution_count": 41,
   "metadata": {},
   "outputs": [
    {
     "name": "stdout",
     "output_type": "stream",
     "text": [
      "Test \u001b[1mMemoized result not reused when code changed\u001b[0m passed.\n"
     ]
    }
   ],
   "source": [
    "%%test Memoized result not reused when code changed\n",
    "serde_test = SerdeTest()\n",
    "\n",
    "try:\n",
    "    globals()[\"G\"] = 2\n",
    "    \n",
    "    @memo(serde=serde_test)\n",
    "    def f(x, y):\n",
    "        return (x + y) * G\n",
    "\n",
    "    f(3, 4)\n",
    "\n",
    "    @memo(serde=serde_test)\n",
    "    def f(x, y):\n",
    "        return (x - y) * G\n",
    "    \n",
    "    f(3, 4)\n",
    "finally:\n",
    "    del globals()[\"G\"]\n",
    "\n",
    "assert serde_test.num_write == 2\n",
    "assert serde_test.num_read == 0"
   ]
  },
  {
   "cell_type": "markdown",
   "metadata": {},
   "source": [
    "# Final test results"
   ]
  },
  {
   "cell_type": "code",
   "execution_count": 42,
   "metadata": {},
   "outputs": [
    {
     "name": "stdout",
     "output_type": "stream",
     "text": [
      "27 passed, \u001b[37m0 failed\u001b[0m, \u001b[37m0 raised an error\u001b[0m\n"
     ]
    }
   ],
   "source": [
    "if __name__ == \"__main__\":\n",
    "    summarize_results(suite)"
   ]
  }
 ],
 "metadata": {
  "kernelspec": {
   "display_name": "Python 3",
   "language": "python",
   "name": "python3"
  },
  "language_info": {
   "codemirror_mode": {
    "name": "ipython",
    "version": 3
   },
   "file_extension": ".py",
   "mimetype": "text/x-python",
   "name": "python",
   "nbconvert_exporter": "python",
   "pygments_lexer": "ipython3",
   "version": "3.8.2"
  }
 },
 "nbformat": 4,
 "nbformat_minor": 4
}
