{
 "cells": [
  {
   "cell_type": "markdown",
   "metadata": {},
   "source": [
    "# Growing classes\n",
    "\n",
    "When implementing much of the functionality and running the research whose artifacts live in this repository, the authors found it best to document the iterations of the research and development. However, Python insists classes should be defined in one block, complicating the iterative development of its methods. We thus write here a decorator that allows for the definition of classes one method at a time, across multiple code cells."
   ]
  },
  {
   "cell_type": "code",
   "execution_count": 1,
   "metadata": {},
   "outputs": [],
   "source": [
    "%load_ext pycodestyle_magic\n",
    "%flake8_on --max_line_length 120 --ignore W293,E302"
   ]
  },
  {
   "cell_type": "code",
   "execution_count": 2,
   "metadata": {},
   "outputs": [],
   "source": [
    "from contextlib import contextmanager\n",
    "from dask.delayed import Delayed\n",
    "import dask\n",
    "from functools import reduce\n",
    "import inspect\n",
    "from jupytest import Suite, Report, summarize_results\n",
    "import re\n",
    "from typing import Callable, Sequence, Optional, cast, Set, Union"
   ]
  },
  {
   "cell_type": "code",
   "execution_count": 3,
   "metadata": {},
   "outputs": [],
   "source": [
    "suite = Suite()\n",
    "if __name__ == \"__main__\":\n",
    "    suite |= Report()"
   ]
  },
  {
   "cell_type": "code",
   "execution_count": 4,
   "metadata": {},
   "outputs": [],
   "source": [
    "Decorator = Callable[[Callable], Callable]\n",
    "\n",
    "\n",
    "def growing(klass: type) -> type:\n",
    "    def add_method(\n",
    "        fn_: Optional[Callable] = None,\n",
    "        name: str = \"\",\n",
    "        wrapped_in: Union[Decorator, Sequence[Decorator]] = []\n",
    "    ) -> Callable:\n",
    "        def add_to_class(fn: Callable):\n",
    "            name_method = name or fn.__name__\n",
    "            method_new = reduce(lambda f, w: w(f), wrapped_in if hasattr(wrapped_in, \"__iter__\") else [wrapped_in], fn)\n",
    "            setattr(klass, name_method, method_new)\n",
    "            return getattr(klass, name_method)\n",
    "        \n",
    "        if fn_ is None:\n",
    "            return add_to_class\n",
    "        return add_to_class(cast(Callable, fn_))\n",
    "    \n",
    "    def add_class_method(\n",
    "        fn_: Optional[Callable] = None,\n",
    "        name: str = \"\",\n",
    "        wrapped_in: Union[Decorator, Sequence[Decorator]] = []\n",
    "    ) -> Callable:\n",
    "        wrappers = wrapped_in if hasattr(wrapped_in, \"__iter__\") else [wrapped_in]\n",
    "        return add_method(fn_, name, wrappers + [classmethod])\n",
    "\n",
    "    setattr(klass, \"method\", staticmethod(add_method))\n",
    "    setattr(klass, \"classmethod\", staticmethod(add_class_method))\n",
    "    return klass"
   ]
  },
  {
   "cell_type": "markdown",
   "metadata": {},
   "source": [
    "## Tests"
   ]
  },
  {
   "cell_type": "code",
   "execution_count": 5,
   "metadata": {},
   "outputs": [],
   "source": [
    "def user_members(klass) -> Set[str]:\n",
    "    return {m for m in dir(klass) if not re.match(r\"^__.*__$\", m)}"
   ]
  },
  {
   "cell_type": "code",
   "execution_count": 6,
   "metadata": {},
   "outputs": [
    {
     "name": "stdout",
     "output_type": "stream",
     "text": [
      "Test \u001b[1mAdd method\u001b[0m passed.\n"
     ]
    }
   ],
   "source": [
    "%%test Add method\n",
    "@growing\n",
    "class MyClass:\n",
    "    def f(self):\n",
    "        return 5\n",
    "\n",
    "assert {\"f\", \"method\"} <= user_members(MyClass)\n",
    "assert \"g\" not in user_members(MyClass)\n",
    "\n",
    "\n",
    "@MyClass.method\n",
    "def g(self, x):\n",
    "    return self.f() + x\n",
    "\n",
    "assert {\"f\", \"g\", \"method\"} <= user_members(MyClass)\n",
    "assert MyClass().g(3) == 8"
   ]
  },
  {
   "cell_type": "code",
   "execution_count": 7,
   "metadata": {},
   "outputs": [
    {
     "name": "stdout",
     "output_type": "stream",
     "text": [
      "Test \u001b[1mAdd Dask Delayed method\u001b[0m passed.\n"
     ]
    }
   ],
   "source": [
    "%%test Add Dask Delayed method\n",
    "@growing\n",
    "class MyClass:\n",
    "    def f(self):\n",
    "        return 5\n",
    "\n",
    "@MyClass.method(wrapped_in=dask.delayed(pure=True))\n",
    "def h(self, x, y):\n",
    "    return self.f() * x + y\n",
    "\n",
    "assert \"h\" in user_members(MyClass)\n",
    "assert isinstance(MyClass().h(4, 5), Delayed)\n",
    "assert MyClass().h(4, 5).compute(scheduler=\"single-threaded\") == 25"
   ]
  },
  {
   "cell_type": "code",
   "execution_count": 8,
   "metadata": {},
   "outputs": [
    {
     "name": "stdout",
     "output_type": "stream",
     "text": [
      "Test \u001b[1mMultiple method wrappers\u001b[0m passed.\n"
     ]
    }
   ],
   "source": [
    "%%test Multiple method wrappers\n",
    "@growing\n",
    "class MyClass:\n",
    "    def f(self):\n",
    "        return 5\n",
    "\n",
    "def wrapper1(fn):\n",
    "    return lambda self, x: fn(self, x) + x\n",
    "\n",
    "def wrapper2(fn):\n",
    "    return lambda self, x: fn(self, x) * x\n",
    "\n",
    "@MyClass.method(wrapped_in=[wrapper1, wrapper2])\n",
    "def double_wrapped(self, x):\n",
    "    return x / 3 + self.f()\n",
    "    \n",
    "assert \"double_wrapped\" in user_members(MyClass)\n",
    "assert MyClass().double_wrapped(9) == 153.0"
   ]
  },
  {
   "cell_type": "code",
   "execution_count": 9,
   "metadata": {},
   "outputs": [
    {
     "name": "stdout",
     "output_type": "stream",
     "text": [
      "Test \u001b[1mAdd class method, inelegant\u001b[0m passed.\n"
     ]
    }
   ],
   "source": [
    "%%test Add class method, inelegant\n",
    "@growing\n",
    "class MyClass:\n",
    "    C = 34\n",
    "    \n",
    "    def f(self):\n",
    "        return 5\n",
    "\n",
    "try:\n",
    "    @MyClass.method\n",
    "    @classmethod\n",
    "    def cm(cls):\n",
    "        return cls.C\n",
    "    fail()\n",
    "except AttributeError:\n",
    "    pass\n",
    "\n",
    "@MyClass.method(wrapped_in=classmethod)\n",
    "def cm(cls):\n",
    "    return cls.C\n",
    "assert MyClass.cm() == MyClass.C"
   ]
  },
  {
   "cell_type": "code",
   "execution_count": 10,
   "metadata": {},
   "outputs": [
    {
     "name": "stdout",
     "output_type": "stream",
     "text": [
      "Test \u001b[1mAdd class method, preferred approach\u001b[0m passed.\n"
     ]
    }
   ],
   "source": [
    "%%test Add class method, preferred approach\n",
    "@growing\n",
    "class MyClass:\n",
    "    C = 34\n",
    "    \n",
    "    def f(self):\n",
    "        return 5\n",
    "\n",
    "@MyClass.classmethod\n",
    "def cm(cls):\n",
    "    return cls.C\n",
    "\n",
    "\n",
    "assert MyClass.cm() == MyClass.C"
   ]
  },
  {
   "cell_type": "code",
   "execution_count": 11,
   "metadata": {},
   "outputs": [
    {
     "name": "stdout",
     "output_type": "stream",
     "text": [
      "Test \u001b[1mAdd class method that acts as context manager\u001b[0m passed.\n"
     ]
    }
   ],
   "source": [
    "%%test Add class method that acts as context manager\n",
    "@growing\n",
    "class MyClass:\n",
    "    C = 34\n",
    "    def f(self):\n",
    "        return 5\n",
    "    \n",
    "    \n",
    "@MyClass.classmethod(wrapped_in=contextmanager)\n",
    "def changing_C(cls, num: int):\n",
    "    old = cls.C\n",
    "    try:\n",
    "        cls.C = num\n",
    "        yield\n",
    "    finally:\n",
    "        cls.C = old\n",
    "        \n",
    "        \n",
    "assert MyClass.C == 34\n",
    "with MyClass.changing_C(45):\n",
    "    assert MyClass.C == 45\n",
    "assert MyClass.C == 34"
   ]
  },
  {
   "cell_type": "code",
   "execution_count": 12,
   "metadata": {},
   "outputs": [
    {
     "name": "stdout",
     "output_type": "stream",
     "text": [
      "6 passed, \u001b[37m0 failed\u001b[0m, \u001b[37m0 raised an error\u001b[0m\n"
     ]
    }
   ],
   "source": [
    "if __name__ == \"__main__\":\n",
    "    _ = summarize_results(suite)"
   ]
  }
 ],
 "metadata": {
  "kernelspec": {
   "display_name": "Python 3",
   "language": "python",
   "name": "python3"
  },
  "language_info": {
   "codemirror_mode": {
    "name": "ipython",
    "version": 3
   },
   "file_extension": ".py",
   "mimetype": "text/x-python",
   "name": "python",
   "nbconvert_exporter": "python",
   "pygments_lexer": "ipython3",
   "version": "3.8.2"
  }
 },
 "nbformat": 4,
 "nbformat_minor": 4
}
